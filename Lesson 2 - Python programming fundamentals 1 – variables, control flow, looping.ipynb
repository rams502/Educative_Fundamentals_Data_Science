{
 "cells": [
  {
   "cell_type": "markdown",
   "metadata": {},
   "source": [
    "# Lesson 2: Python programming fundamentals 1 – variables, data types, and operators\n",
    "\n",
    "<img src=\"https://raw.githubusercontent.com/tirthajyoti/Educative_Fundamentals_Data_Science/master/Images/Lesson%202%20fig%201.png\", height='600',width='400'>"
   ]
  },
  {
   "cell_type": "markdown",
   "metadata": {},
   "source": [
    "## Topic 1: Welcome, `print` function, and comments!\n",
    "### Print a welcome message\n",
    "By executing the following code snippet, you will print a simple statement.\n",
    "<br>However, it is not that simple - you will use a function `print` and a `string` as an argument to that function. We will, of course, learn much more about these concepts in the later part of the course."
   ]
  },
  {
   "cell_type": "code",
   "execution_count": 1,
   "metadata": {},
   "outputs": [
    {
     "name": "stdout",
     "output_type": "stream",
     "text": [
      "Welcome to the \"Building Fundamentals for Data Science and Machine Learning\" course!\n"
     ]
    }
   ],
   "source": [
    "print(\"Welcome to the \\\"Building Fundamentals for Data Science and Machine Learning\\\" course!\")"
   ]
  },
  {
   "cell_type": "markdown",
   "metadata": {},
   "source": [
    "### How to add a comment to your code?\n",
    "Adding comments are extremely important as a good coding practice.\n",
    "<p> <b>Comments are nothing but the part of the code that will not be executed/compiled/interpreted by the Python program.</b> It is there to help you understand the flow or logic of the code and come back and debug it later.</p>\n",
    "<p> Note how we put three comments in and around the same code as before. None of them has any impact on the output but they show the possibility of how you can put short comments around your code to make it more human readble :-)"
   ]
  },
  {
   "cell_type": "code",
   "execution_count": 2,
   "metadata": {},
   "outputs": [
    {
     "name": "stdout",
     "output_type": "stream",
     "text": [
      "Welcome to the \"Building Fundamentals for Data Science and Machine Learning\" course!\n"
     ]
    }
   ],
   "source": [
    "# This is a comment before executing the code\n",
    "print(\"Welcome to the \\\"Building Fundamentals for Data Science and Machine Learning\\\" course!\") # Inline comment\n",
    "# A comment after the code"
   ]
  },
  {
   "cell_type": "markdown",
   "metadata": {},
   "source": [
    "## Topic 2: Variables: What are they?\n",
    "While printing simple text messages can be a fun way to get introduced to Python language, it quickly becomes boring if we cannot manipulate <b>symbolic variables</b> using our code. \n",
    "<p>In most of the programming languages a variable is a named location used to store data in the memory. Each variable must have a unique name called identifier. \n",
    "<p>It is helpful to think of variables as container that hold data which can be changed later throughout programming."
   ]
  },
  {
   "cell_type": "markdown",
   "metadata": {},
   "source": [
    "## Topic 3: Integer variable\n",
    "Integeres are one of simplest and most used variables in Python.\n",
    "<p><b>Positive integeres</b>: 1, 2, 3\n",
    "<p><b>Negative integeres</b>: -1, -2\n",
    "<p> Following code assigns integer values to two variables and prints their sum "
   ]
  },
  {
   "cell_type": "code",
   "execution_count": 3,
   "metadata": {},
   "outputs": [
    {
     "name": "stdout",
     "output_type": "stream",
     "text": [
      "Sum of a and b is:  -2\n"
     ]
    }
   ],
   "source": [
    "a = 3\n",
    "b = -5\n",
    "\n",
    "print(\"Sum of a and b is: \",a+b)"
   ]
  },
  {
   "cell_type": "markdown",
   "metadata": {},
   "source": [
    "### You can, of course, store the intermediate value in another variable and then print it"
   ]
  },
  {
   "cell_type": "code",
   "execution_count": 4,
   "metadata": {},
   "outputs": [
    {
     "name": "stdout",
     "output_type": "stream",
     "text": [
      "c is the sum of a and b variables\n",
      "Sum of a and b is:  -2\n"
     ]
    }
   ],
   "source": [
    "a = 3\n",
    "b = -5\n",
    "c = a+b\n",
    "\n",
    "print(\"c is the sum of a and b variables\")\n",
    "print(\"Sum of a and b is: \",c)"
   ]
  },
  {
   "cell_type": "markdown",
   "metadata": {},
   "source": [
    "### Did you notice the use of `+` operator on the integers above? Python supports all usual mathematical operators"
   ]
  },
  {
   "cell_type": "code",
   "execution_count": 5,
   "metadata": {},
   "outputs": [
    {
     "name": "stdout",
     "output_type": "stream",
     "text": [
      "Sum of a and b is:  -2\n",
      "Subtraction of b from a is:  8\n",
      "Product of a and b is:  -15\n",
      "Ratio of a and b is:  -0.6\n"
     ]
    }
   ],
   "source": [
    "a = 3\n",
    "b = -5\n",
    "\n",
    "addition = a+b\n",
    "subtraction = a-b\n",
    "multiplication = a*b\n",
    "division = a/b\n",
    "\n",
    "print(\"Sum of a and b is: \",addition)\n",
    "print(\"Subtraction of b from a is: \",subtraction)\n",
    "print(\"Product of a and b is: \",multiplication)\n",
    "print(\"Ratio of a and b is: \",division)"
   ]
  },
  {
   "cell_type": "markdown",
   "metadata": {},
   "source": [
    "## Topic 4: Floating point numbers (another variable type)\n",
    "Did you note somthing unusual about the last operation i.e. division? We know that, in general, ratio of two integers may not be another integer. The superset of numbers, of which the set of integers is a subset, is <b>real number</b>. In the world of programming languages, this real number is represented by <b>floating point number</b> type.\n",
    "<p> <b>Note</b>: Python 3 automatically converts a result of integer division to a floating point.\n",
    "<p> You can do the same type of mathematical operations using floating point numbers."
   ]
  },
  {
   "cell_type": "code",
   "execution_count": 6,
   "metadata": {},
   "outputs": [
    {
     "name": "stdout",
     "output_type": "stream",
     "text": [
      "Sum of a and b is:  5.5\n",
      "Subtraction of b from a is:  1.5\n",
      "Product of a and b is:  7.0\n",
      "Ratio of a and b is:  1.75\n"
     ]
    }
   ],
   "source": [
    "a = 3.5\n",
    "b = 2.0\n",
    "\n",
    "addition = a+b\n",
    "subtraction = a-b\n",
    "multiplication = a*b\n",
    "division = a/b\n",
    "\n",
    "print(\"Sum of a and b is: \",addition)\n",
    "print(\"Subtraction of b from a is: \",subtraction)\n",
    "print(\"Product of a and b is: \",multiplication)\n",
    "print(\"Ratio of a and b is: \",division)"
   ]
  },
  {
   "cell_type": "markdown",
   "metadata": {},
   "source": [
    "### More involved mathemacal operations\n",
    "Let us introduce few more mathematical operations, that will come handy all the time during our jorney to learn the fundamentals for data science.\n",
    "* <b>Exponentiation</b>: Raising a number to the power of another number. We use <b>`**`</b> for this operation.\n",
    "* <b>Modulo</b>: Remainder of the division of left operand by the right. We use <b>`%`</b> for this operation.\n",
    "* <b>Floor division</b>: Division that results into whole number adjusted to the left in the number line. We use <b>`//`</b> for this operation."
   ]
  },
  {
   "cell_type": "code",
   "execution_count": 7,
   "metadata": {},
   "outputs": [
    {
     "name": "stdout",
     "output_type": "stream",
     "text": [
      "a raised to the power b is:  56.25\n",
      "a modulo b is:  1.5\n",
      "Floor division of a by b results in:  3.0\n"
     ]
    }
   ],
   "source": [
    "a = 7.5\n",
    "b = 2.0\n",
    "\n",
    "expo = a**b\n",
    "modulo = a%b\n",
    "floor = a//b\n",
    "\n",
    "print(\"a raised to the power b is: \",expo)\n",
    "print(\"a modulo b is: \",modulo)\n",
    "print(\"Floor division of a by b results in: \",floor)"
   ]
  },
  {
   "cell_type": "markdown",
   "metadata": {},
   "source": [
    "## Topic 5: String variable\n",
    "A string is a sequence of characters. A character is simply a symbol. For example, the English language has 26 characters. However, computers do not understand characters, and they only deal with numbers (binary). Even though you may see characters on your screen, internally it is stored and manipulated as a combination of 0's and 1's.\n",
    "<p>This conversion of character to a number is called encoding, and the reverse process is decoding. ASCII and Unicode are some of the popular encoding used.\n",
    "<p>In Python, string is a sequence of Unicode character. Strings are amongst the most popular types in Python. We can create them simply by <b>enclosing characters in quotes</b>. Python treats single quotes the same as double quotes. Creating strings is as simple as assigning a value to a variable."
   ]
  },
  {
   "cell_type": "code",
   "execution_count": 8,
   "metadata": {},
   "outputs": [],
   "source": [
    "a_string = \"A single string\"\n",
    "another_string = \"A similar single line string\""
   ]
  },
  {
   "cell_type": "code",
   "execution_count": 9,
   "metadata": {},
   "outputs": [
    {
     "name": "stdout",
     "output_type": "stream",
     "text": [
      "A single string\n"
     ]
    }
   ],
   "source": [
    "print(a_string)"
   ]
  },
  {
   "cell_type": "code",
   "execution_count": 10,
   "metadata": {},
   "outputs": [
    {
     "name": "stdout",
     "output_type": "stream",
     "text": [
      "A similar single line string\n"
     ]
    }
   ],
   "source": [
    "print(another_string)"
   ]
  },
  {
   "cell_type": "markdown",
   "metadata": {},
   "source": [
    "### Multi-line string\n",
    "The triple quoted line can be done with three single quotes or three double quotes. Either way, they allow the programmer to write strings over multiple lines. If you print it out, you will notice that the output retains the line breaks."
   ]
  },
  {
   "cell_type": "code",
   "execution_count": 11,
   "metadata": {},
   "outputs": [],
   "source": [
    "multiline_string = '''A rather long string that\n",
    "spans over...\n",
    "several lines'''"
   ]
  },
  {
   "cell_type": "code",
   "execution_count": 12,
   "metadata": {},
   "outputs": [
    {
     "name": "stdout",
     "output_type": "stream",
     "text": [
      "A rather long string that\n",
      "spans over...\n",
      "several lines\n"
     ]
    }
   ],
   "source": [
    "print(multiline_string)"
   ]
  },
  {
   "cell_type": "markdown",
   "metadata": {},
   "source": [
    "## Topic 6: `str` function and the concept of type-casting\n",
    "Another way to create a string is to <b>type-cast</b>.\n",
    "<p> Type-casting means converting a variable from one data type to another using special constructor functions.\n",
    "<p> <b>Note</b>: Be careful through. You can cast some data types into other data types, like numbers into strings. But you’ll also find that you can’t always do the reverse, such as casting a string like ‘ABC’ into an integer.\n",
    "<p> Try the following code snippets,"
   ]
  },
  {
   "cell_type": "code",
   "execution_count": 13,
   "metadata": {},
   "outputs": [
    {
     "name": "stdout",
     "output_type": "stream",
     "text": [
      "This is a number 12\n",
      "Now this is a string 12\n"
     ]
    }
   ],
   "source": [
    "a_number = 12\n",
    "print(\"This is a number\",a_number)\n",
    "string_casted = str(a_number)\n",
    "print(\"Now this is a string\", string_casted)"
   ]
  },
  {
   "cell_type": "markdown",
   "metadata": {},
   "source": [
    "### Integer and floating point numbers have their own type-casting methods: `int` and `float` respectively\n",
    "Following code illustrates the use of such type-casting and their limitations."
   ]
  },
  {
   "cell_type": "code",
   "execution_count": 14,
   "metadata": {},
   "outputs": [
    {
     "name": "stdout",
     "output_type": "stream",
     "text": [
      "Declaration of independence happened in 1776\n",
      "First constitution came into force in 1789\n"
     ]
    }
   ],
   "source": [
    "a_integer_like_string = '1776'\n",
    "declaration_of_independence = int(a_integer_like_string)\n",
    "# Note how we can add a number 13 to the variable 'declaration_of_independence'\n",
    "first_constitution = declaration_of_independence + 13\n",
    "\n",
    "print(\"Declaration of independence happened in\", declaration_of_independence)\n",
    "print(\"First constitution came into force in\", first_constitution)"
   ]
  },
  {
   "cell_type": "markdown",
   "metadata": {},
   "source": [
    "#### But the following code will give an error message because an integer cannot be added to a string data type"
   ]
  },
  {
   "cell_type": "code",
   "execution_count": 17,
   "metadata": {},
   "outputs": [
    {
     "ename": "TypeError",
     "evalue": "must be str, not int",
     "output_type": "error",
     "traceback": [
      "\u001b[1;31m---------------------------------------------------------------------------\u001b[0m",
      "\u001b[1;31mTypeError\u001b[0m                                 Traceback (most recent call last)",
      "\u001b[1;32m<ipython-input-17-4cfbce5ac283>\u001b[0m in \u001b[0;36m<module>\u001b[1;34m()\u001b[0m\n\u001b[0;32m      1\u001b[0m \u001b[1;31m# But the following code will give an error message\u001b[0m\u001b[1;33m\u001b[0m\u001b[1;33m\u001b[0m\u001b[0m\n\u001b[1;32m----> 2\u001b[1;33m \u001b[0mprint\u001b[0m\u001b[1;33m(\u001b[0m\u001b[1;34m\"First constitution came into force in\"\u001b[0m\u001b[1;33m,\u001b[0m \u001b[0ma_integer_like_string\u001b[0m\u001b[1;33m+\u001b[0m\u001b[1;36m13\u001b[0m\u001b[1;33m)\u001b[0m\u001b[1;33m\u001b[0m\u001b[0m\n\u001b[0m",
      "\u001b[1;31mTypeError\u001b[0m: must be str, not int"
     ]
    }
   ],
   "source": [
    "# But the following code will give an error message\n",
    "print(\"First constitution came into force in\", a_integer_like_string+13)"
   ]
  },
  {
   "cell_type": "code",
   "execution_count": 18,
   "metadata": {},
   "outputs": [
    {
     "name": "stdout",
     "output_type": "stream",
     "text": [
      "Value of pi up to 5 decimal places: 3.14159\n"
     ]
    }
   ],
   "source": [
    "value_of_pi = '3.14159'\n",
    "value_of_pi_float = float(value_of_pi)\n",
    "print(\"Value of pi up to 5 decimal places:\", value_of_pi_float)"
   ]
  },
  {
   "cell_type": "markdown",
   "metadata": {},
   "source": [
    "#### The following code raises an error because a string with alphabatic characters cannot be converted to a floating point number "
   ]
  },
  {
   "cell_type": "code",
   "execution_count": 19,
   "metadata": {},
   "outputs": [
    {
     "ename": "ValueError",
     "evalue": "could not convert string to float: '3 point something'",
     "output_type": "error",
     "traceback": [
      "\u001b[1;31m---------------------------------------------------------------------------\u001b[0m",
      "\u001b[1;31mValueError\u001b[0m                                Traceback (most recent call last)",
      "\u001b[1;32m<ipython-input-19-ddb481418dd8>\u001b[0m in \u001b[0;36m<module>\u001b[1;34m()\u001b[0m\n\u001b[0;32m      1\u001b[0m \u001b[1;31m# But this will raise an error\u001b[0m\u001b[1;33m\u001b[0m\u001b[1;33m\u001b[0m\u001b[0m\n\u001b[0;32m      2\u001b[0m \u001b[0mambiguous_pi\u001b[0m \u001b[1;33m=\u001b[0m \u001b[1;34m\"3 point something\"\u001b[0m\u001b[1;33m\u001b[0m\u001b[0m\n\u001b[1;32m----> 3\u001b[1;33m \u001b[0mambiguous_pi_float\u001b[0m \u001b[1;33m=\u001b[0m \u001b[0mfloat\u001b[0m\u001b[1;33m(\u001b[0m\u001b[0mambiguous_pi\u001b[0m\u001b[1;33m)\u001b[0m\u001b[1;33m\u001b[0m\u001b[0m\n\u001b[0m\u001b[0;32m      4\u001b[0m \u001b[0mprint\u001b[0m\u001b[1;33m(\u001b[0m\u001b[0mambiguous_pi_float\u001b[0m\u001b[1;33m)\u001b[0m\u001b[1;33m\u001b[0m\u001b[0m\n",
      "\u001b[1;31mValueError\u001b[0m: could not convert string to float: '3 point something'"
     ]
    }
   ],
   "source": [
    "# But this will raise an error\n",
    "ambiguous_pi = \"3 point something\"\n",
    "ambiguous_pi_float = float(ambiguous_pi)\n",
    "print(ambiguous_pi_float)"
   ]
  },
  {
   "cell_type": "markdown",
   "metadata": {},
   "source": [
    "### How to determine the type of any variable in Python?\n",
    "You can use `type` method to determine the data type of any variable in Python. This comes in pretty handy for data science applications, as we may encounter various complex objects in a program and need to decipher their type to understand the properties and the range of operations we can perform over them.\n",
    "<p> Note how we can print the type of the two variables we defined above. Although in the previous code execution, they printed identical, their fundamental types are different. Here, their type is printed with the keyword `class`. More about the `class` concept will be covered in the module on <b>object-oriented programming</b>."
   ]
  },
  {
   "cell_type": "code",
   "execution_count": 20,
   "metadata": {},
   "outputs": [
    {
     "name": "stdout",
     "output_type": "stream",
     "text": [
      "Type of the variable a_number:  <class 'int'>\n",
      "Type of the variable string_casted:  <class 'str'>\n"
     ]
    }
   ],
   "source": [
    "a_number = 12\n",
    "print(\"Type of the variable a_number: \",type(a_number))\n",
    "string_casted = str(a_number)\n",
    "print(\"Type of the variable string_casted: \", type(string_casted))"
   ]
  },
  {
   "cell_type": "markdown",
   "metadata": {},
   "source": [
    "#### There are many things to learn about strings and how to manipulate them. These come pretty handy for data science and therefore we will cover them in somewhat detail in this Python refresher. But we will come back to them in another module."
   ]
  },
  {
   "cell_type": "markdown",
   "metadata": {},
   "source": [
    "## Topic 7: Boolean\n",
    "Boolean values are the two constant objects `False` and `True`. They are used to represent truth values (other values can also be considered false or true). \n",
    "\n",
    "In numeric contexts (for example, when used as the argument to an arithmetic operator), they behave like the integers 0 and 1, respectively."
   ]
  },
  {
   "cell_type": "code",
   "execution_count": 21,
   "metadata": {},
   "outputs": [
    {
     "name": "stdout",
     "output_type": "stream",
     "text": [
      "Boolean value of bool_1:  True\n",
      "Integer value of bool_1:  1\n",
      "Boolean value of bool_2:  False\n",
      "Integer value of bool_2:  0\n"
     ]
    }
   ],
   "source": [
    "bool_1 = True\n",
    "bool_2 = False\n",
    "\n",
    "print(\"Boolean value of bool_1: \",bool_1)\n",
    "print(\"Integer value of bool_1: \",int(bool_1))\n",
    "print(\"Boolean value of bool_2: \",bool_2)\n",
    "print(\"Integer value of bool_2: \",int(bool_2))"
   ]
  },
  {
   "cell_type": "markdown",
   "metadata": {},
   "source": [
    "### Type-casting to Boolean by `bool` \n",
    "The built-in function `bool()` can be used to cast any value to a Boolean, if the value can be interpreted as a truth value. In Python, anything other than 0 (integer or floating point) is interpreted as `True` when type-casted to Boolean."
   ]
  },
  {
   "cell_type": "code",
   "execution_count": 22,
   "metadata": {},
   "outputs": [
    {
     "name": "stdout",
     "output_type": "stream",
     "text": [
      "Boolean value of a is:  True\n",
      "Boolean value of b is:  True\n",
      "Boolean value of c is:  True\n",
      "Boolean value of d is:  False\n",
      "Boolean value of e is:  False\n",
      "Boolean value of f is:  True\n",
      "Boolean value of s is:  True\n"
     ]
    }
   ],
   "source": [
    "a = 1\n",
    "b = -10\n",
    "c = 2.35\n",
    "d = 0\n",
    "e = 0.0\n",
    "f = 0.000001\n",
    "s = \"A string\"\n",
    "\n",
    "print(\"Boolean value of a is: \",bool(a))\n",
    "print(\"Boolean value of b is: \",bool(b))\n",
    "print(\"Boolean value of c is: \",bool(c))\n",
    "print(\"Boolean value of d is: \",bool(d))\n",
    "print(\"Boolean value of e is: \",bool(e))\n",
    "print(\"Boolean value of f is: \",bool(f))\n",
    "print(\"Boolean value of s is: \",bool(s))"
   ]
  },
  {
   "cell_type": "markdown",
   "metadata": {},
   "source": [
    "## Topic 8: Python operators\n",
    "Operators are special symbols in Python that carry out arithmetic or logical computation. The value that the operator operates on is called the operand. In Python, there are few different types of operators,\n",
    "\n",
    "* Arithmatic operators\n",
    "* Comparison operators\n",
    "* Logical/Boolean operators\n",
    "* Assignment operator\n",
    "* Special operators - <i>identity operators</i> and <i>membership operators</i> \n",
    "\n",
    "<p> We were already familiarized with arithmatic operators like `+`, `-`, `//`, or `%`."
   ]
  },
  {
   "cell_type": "markdown",
   "metadata": {},
   "source": [
    "### Comparison operators\n",
    "Comparison operators are used to compare values. It either returns `True` or `False` according to the condition.\n",
    "\n",
    "* `>`: Greater than - True if left operand is greater than the right.\n",
    "* `>=`Greater than or equal to - True if left operand is greater than or equal to the right\n",
    "* `<`: Less than - True if left operand is less than the right.\n",
    "* `<=`: Less than or equal to - True if left operand is less than or equal to the right\n",
    "* `==`: Equal to - True if both operands are equal.\n",
    "* `!=`: Not equal to - True if operands are not equal.\n",
    "\n",
    "<p> Following code demonstrates the concept.\n",
    "<br>Note: How even strings can be compared (lexicograhically)."
   ]
  },
  {
   "cell_type": "code",
   "execution_count": 23,
   "metadata": {},
   "outputs": [
    {
     "name": "stdout",
     "output_type": "stream",
     "text": [
      "x is greater than y:  True\n",
      "x is less than y:  False\n",
      "x is equal to y:  False\n",
      "x is not equal to y:  True\n"
     ]
    }
   ],
   "source": [
    "x = 5.6\n",
    "y = 3\n",
    "\n",
    "print (\"x is greater than y: \", x>y)\n",
    "print (\"x is less than y: \", x<y)\n",
    "print (\"x is equal to y: \", x==y)\n",
    "print (\"x is not equal to y: \", x!=y)"
   ]
  },
  {
   "cell_type": "markdown",
   "metadata": {},
   "source": [
    "### Logical operators\n",
    "Logical operators are the `and`, `or`, and `not` operators. They follow Boolean logic just like any programming language.\n",
    "<p> Following code illustrates theese operators"
   ]
  },
  {
   "cell_type": "code",
   "execution_count": 24,
   "metadata": {},
   "outputs": [
    {
     "name": "stdout",
     "output_type": "stream",
     "text": [
      "x and y is: False\n",
      "x or y is: True\n",
      "not x is: False\n"
     ]
    }
   ],
   "source": [
    "x = True\n",
    "y = False\n",
    "\n",
    "# Output: x and y is False\n",
    "print(\"x and y is:\",x and y)\n",
    "\n",
    "# Output: x or y is True\n",
    "print(\"x or y is:\",x or y)\n",
    "\n",
    "# Output: not x is False\n",
    "print(\"not x is:\",not x)"
   ]
  },
  {
   "cell_type": "markdown",
   "metadata": {},
   "source": [
    "### Assignment operators\n",
    "Assignment operators are used in Python to assign values to variables.\n",
    "<br><b>Note</b> the difference between `=` and `==`. The former is the assignment operator whereas the later one is the comparison operator to check equality.\n",
    "<p>There are various compound operators in Python. For example, you can assign 10 to `x` with `x=5`. Now, `x += 5` adds 5 to the variable and later assigns the same. It is equivalent to `x = x + 5`.\n",
    "<p> Following code illustrates the use of assignment operators,"
   ]
  },
  {
   "cell_type": "code",
   "execution_count": 25,
   "metadata": {},
   "outputs": [
    {
     "name": "stdout",
     "output_type": "stream",
     "text": [
      "x is: 10\n",
      "x+5 is 15\n",
      "x*5 is 50\n"
     ]
    }
   ],
   "source": [
    "x = 10\n",
    "print(\"x is:\",x)\n",
    "x+=5\n",
    "print(\"x+5 is\",x)\n",
    "# Re-assign x to 10 because x has changed to 15. \n",
    "x = 10\n",
    "x*=5\n",
    "print(\"x*5 is\",x)"
   ]
  },
  {
   "cell_type": "markdown",
   "metadata": {},
   "source": [
    "### Identity operators\n",
    "In Python, `is` and `is not` are the identity operators. They are used to check if two values (or variables) are **located on the same part of the memory**.\n",
    "<p>**Two variables that are equal does not imply that they are identical.** In Python strings and integeres/floats are generally assigned same memory location based on their equality but other objects are not. In the following code example, `x1/y1` and `x2/y2` are equal and identical. However, `x3/y3` are equal but not identical because they are lists. We will cover list as a special data structure in later a module."
   ]
  },
  {
   "cell_type": "code",
   "execution_count": 26,
   "metadata": {},
   "outputs": [
    {
     "name": "stdout",
     "output_type": "stream",
     "text": [
      "False\n",
      "True\n",
      "False\n"
     ]
    }
   ],
   "source": [
    "x1 = 5\n",
    "y1 = 5\n",
    "x2 = 'Hello'\n",
    "y2 = 'Hello'\n",
    "x3 = [1,2,3]\n",
    "y3 = [1,2,3]\n",
    "\n",
    "# Output: False\n",
    "print(x1 is not y1)\n",
    "\n",
    "# Output: True\n",
    "print(x2 is y2)\n",
    "\n",
    "# Output: False\n",
    "print(x3 is y3)"
   ]
  },
  {
   "cell_type": "markdown",
   "metadata": {},
   "source": [
    "## Topic 9: `input` function\n",
    "This is a special function to receive user typed input from a command terminal (when a code is executed). Following example illustrates the concept,"
   ]
  },
  {
   "cell_type": "code",
   "execution_count": 27,
   "metadata": {},
   "outputs": [
    {
     "name": "stdout",
     "output_type": "stream",
     "text": [
      "Please enter your age: 37\n",
      "Your age is: 37\n"
     ]
    }
   ],
   "source": [
    "age = input(\"Please enter your age: \")\n",
    "print(\"Your age is:\",age)"
   ]
  },
  {
   "cell_type": "markdown",
   "metadata": {},
   "source": [
    "## Topic 10: Putting the concepts together \n",
    "In the following code snippet, you will weave together various concepts you have learned so far,\n",
    "* `input` function\n",
    "* how to use and manipulate an integer variable to print out a simple statement about your age!\n",
    "* concept of type casting using `int` function\n",
    "* Comparison operator and Boolean variables\n",
    "* Properly commenting the code"
   ]
  },
  {
   "cell_type": "code",
   "execution_count": 28,
   "metadata": {},
   "outputs": [
    {
     "name": "stdout",
     "output_type": "stream",
     "text": [
      "Please enter your age: 37\n",
      "Sweet! You have 63 years to go before hitting 100!\n",
      "The statement that your age is greater than 30 is: True\n"
     ]
    }
   ],
   "source": [
    "# Get the user input (from a command terminal)\n",
    "# Note the type-casting of user input to integer because we want to manipulate that numerically\n",
    "age = int(input(\"Please enter your age: \"))\n",
    "# Subtracting age from 100 to create a new variable\n",
    "years_to_100 = 100 - age\n",
    "print(\"Sweet! You have {} years to go before hitting 100!\".format(years_to_100))\n",
    "# Create a Boolean variable using a comparison operator\n",
    "age_greater_than_30 = age > 30\n",
    "# Print a statement indicating the age status (> 30 or not)\n",
    "print(\"The statement that your age is greater than 30 is:\",age_greater_than_30)"
   ]
  }
 ],
 "metadata": {
  "kernelspec": {
   "display_name": "Python 3",
   "language": "python",
   "name": "python3"
  },
  "language_info": {
   "codemirror_mode": {
    "name": "ipython",
    "version": 3
   },
   "file_extension": ".py",
   "mimetype": "text/x-python",
   "name": "python",
   "nbconvert_exporter": "python",
   "pygments_lexer": "ipython3",
   "version": "3.6.2"
  },
  "latex_envs": {
   "LaTeX_envs_menu_present": true,
   "autoclose": false,
   "autocomplete": true,
   "bibliofile": "biblio.bib",
   "cite_by": "apalike",
   "current_citInitial": 1,
   "eqLabelWithNumbers": true,
   "eqNumInitial": 1,
   "hotkeys": {
    "equation": "Ctrl-E",
    "itemize": "Ctrl-I"
   },
   "labels_anchors": false,
   "latex_user_defs": false,
   "report_style_numbering": false,
   "user_envs_cfg": false
  }
 },
 "nbformat": 4,
 "nbformat_minor": 2
}
